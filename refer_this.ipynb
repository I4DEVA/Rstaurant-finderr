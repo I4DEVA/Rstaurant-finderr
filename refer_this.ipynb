{
  "nbformat": 4,
  "nbformat_minor": 0,
  "metadata": {
    "colab": {
      "provenance": [],
      "include_colab_link": true
    },
    "kernelspec": {
      "name": "python3",
      "display_name": "Python 3"
    },
    "language_info": {
      "name": "python"
    }
  },
  "cells": [
    {
      "cell_type": "markdown",
      "metadata": {
        "id": "view-in-github",
        "colab_type": "text"
      },
      "source": [
        "<a href=\"https://colab.research.google.com/github/I4DEVA/Rstaurant-finderr/blob/main/refer_this.ipynb\" target=\"_parent\"><img src=\"https://colab.research.google.com/assets/colab-badge.svg\" alt=\"Open In Colab\"/></a>"
      ]
    },
    {
      "cell_type": "code",
      "execution_count": null,
      "metadata": {
        "id": "6m4jy3XFVMxF",
        "colab": {
          "base_uri": "https://localhost:8080/"
        },
        "outputId": "e294d6a6-10b5-473f-912c-e40db77afeb3"
      },
      "outputs": [
        {
          "output_type": "stream",
          "name": "stdout",
          "text": [
            "Collecting elasticsearch\n",
            "  Downloading elasticsearch-8.17.1-py3-none-any.whl.metadata (8.8 kB)\n",
            "Collecting elastic-transport<9,>=8.15.1 (from elasticsearch)\n",
            "  Downloading elastic_transport-8.17.0-py3-none-any.whl.metadata (3.6 kB)\n",
            "Requirement already satisfied: urllib3<3,>=1.26.2 in /usr/local/lib/python3.11/dist-packages (from elastic-transport<9,>=8.15.1->elasticsearch) (2.3.0)\n",
            "Requirement already satisfied: certifi in /usr/local/lib/python3.11/dist-packages (from elastic-transport<9,>=8.15.1->elasticsearch) (2025.1.31)\n",
            "Downloading elasticsearch-8.17.1-py3-none-any.whl (653 kB)\n",
            "\u001b[2K   \u001b[90m━━━━━━━━━━━━━━━━━━━━━━━━━━━━━━━━━━━━━━━━\u001b[0m \u001b[32m654.0/654.0 kB\u001b[0m \u001b[31m15.5 MB/s\u001b[0m eta \u001b[36m0:00:00\u001b[0m\n",
            "\u001b[?25hDownloading elastic_transport-8.17.0-py3-none-any.whl (64 kB)\n",
            "\u001b[2K   \u001b[90m━━━━━━━━━━━━━━━━━━━━━━━━━━━━━━━━━━━━━━━━\u001b[0m \u001b[32m64.5/64.5 kB\u001b[0m \u001b[31m6.6 MB/s\u001b[0m eta \u001b[36m0:00:00\u001b[0m\n",
            "\u001b[?25hInstalling collected packages: elastic-transport, elasticsearch\n",
            "Successfully installed elastic-transport-8.17.0 elasticsearch-8.17.1\n"
          ]
        }
      ],
      "source": [
        "!pip install elasticsearch"
      ]
    },
    {
      "cell_type": "code",
      "source": [
        "from elasticsearch import Elasticsearch, helpers\n",
        "\n",
        "# Initialize the Elasticsearch client\n",
        "client = Elasticsearch(\n",
        "    \"https://my-elastic-search-project-e3a0ea.es.us-east-1.aws.elastic.cloud:443\",\n",
        "    api_key=\"SHhMb0xKVUJvSGhvWEhxVm96V006VTg2Ykl6TXlRZUpvTXRTd3JPell5dw==\"\n",
        ")"
      ],
      "metadata": {
        "id": "CwcMmDuYaXGs"
      },
      "execution_count": null,
      "outputs": []
    },
    {
      "cell_type": "markdown",
      "source": [
        "STEP 3"
      ],
      "metadata": {
        "id": "MNCAb6Wfha3w"
      }
    },
    {
      "cell_type": "code",
      "source": [
        "index_name = \"geo\"\n",
        "\n",
        "# Define the mapping (including geo as geo_point)\n",
        "mapping = {\n",
        "    \"mappings\": {\n",
        "        \"properties\": {\n",
        "            \"id\": {\"type\": \"integer\"},\n",
        "            \"restaurant_name\": {\"type\": \"text\"},\n",
        "            \"cuisine\": {\"type\": \"keyword\"},\n",
        "            \"avg_rating\": {\"type\": \"float\"},\n",
        "            \"rating_count\": {\"type\": \"integer\"},\n",
        "            \"timing\": {\"type\": \"text\"},\n",
        "            \"geo\": {\"type\": \"geo_point\"},\n",
        "            \"address\": {\"type\": \"text\"},\n",
        "            \"phone_number\": {\"type\": \"keyword\"},\n",
        "            \"price_range\": {\"type\": \"keyword\"},\n",
        "            \"delivery_available\": {\"type\": \"keyword\"},\n",
        "            \"outdoor_seating\": {\"type\": \"keyword\"},\n",
        "            \"vegetarian_friendly\": {\"type\": \"keyword\"},\n",
        "            \"alcohol_served\": {\"type\": \"keyword\"}\n",
        "        }\n",
        "    }\n",
        "}"
      ],
      "metadata": {
        "id": "jW4Jlj2yb-kF"
      },
      "execution_count": null,
      "outputs": []
    },
    {
      "cell_type": "code",
      "source": [
        "# sample data:\n",
        "docs = [\n",
        "  {\"id\": 1, \"restaurant_name\": \"Spice Garden\", \"cuisine\": \"South Indian\", \"avg_rating\": 4.2, \"rating_count\": 150, \"timing\": \"11:00 AM - 11:00 PM\", \"geo\": {\"lat\": 13.056, \"lon\": 80.242}, \"address\": \"Spice Garden, T. Nagar, Chennai\", \"phone_number\": \"044-12345678\", \"price_range\": \"Mid-range\", \"delivery_available\": \"Yes\", \"outdoor_seating\": \"No\", \"vegetarian_friendly\": \"Yes\", \"alcohol_served\": \"No\"},\n",
        "  {\"id\": 2, \"restaurant_name\": \"Taste House\", \"cuisine\": \"Chinese\", \"avg_rating\": 3.8, \"rating_count\": 200, \"timing\": \"12:00 PM - 12:00 AM\", \"geo\": {\"lat\": 13.078, \"lon\": 80.198}, \"address\": \"Taste House, Anna Nagar, Chennai\", \"phone_number\": \"044-87654321\", \"price_range\": \"Expensive\", \"delivery_available\": \"No\", \"outdoor_seating\": \"Yes\", \"vegetarian_friendly\": \"No\", \"alcohol_served\": \"Yes\"},\n",
        "  {\"id\": 3, \"restaurant_name\": \"Flavors Spot\", \"cuisine\": \"Italian\", \"avg_rating\": 4.5, \"rating_count\": 320, \"timing\": \"10:00 AM - 10:00 PM\", \"geo\": {\"lat\": 13.092, \"lon\": 80.215}, \"address\": \"Flavors Spot, Mylapore, Chennai\", \"phone_number\": \"044-45678912\", \"price_range\": \"Mid-range\", \"delivery_available\": \"Yes\", \"outdoor_seating\": \"Yes\", \"vegetarian_friendly\": \"Yes\", \"alcohol_served\": \"Yes\"},\n",
        "  {\"id\": 4, \"restaurant_name\": \"Aromas Corner\", \"cuisine\": \"Biryani\", \"avg_rating\": 3.9, \"rating_count\": 85, \"timing\": \"11:00 AM - 11:00 PM\", \"geo\": {\"lat\": 13.067, \"lon\": 80.267}, \"address\": \"Aromas Corner, Adyar, Chennai\", \"phone_number\": \"044-23456789\", \"price_range\": \"Budget\", \"delivery_available\": \"No\", \"outdoor_seating\": \"No\", \"vegetarian_friendly\": \"No\", \"alcohol_served\": \"No\"},\n",
        "  {\"id\": 5, \"restaurant_name\": \"Delights Hub\", \"cuisine\": \"Mexican\", \"avg_rating\": 4.1, \"rating_count\": 450, \"timing\": \"12:00 PM - 12:00 AM\", \"geo\": {\"lat\": 13.045, \"lon\": 80.189}, \"address\": \"Delights Hub, Besant Nagar, Chennai\", \"phone_number\": \"044-34567890\", \"price_range\": \"Expensive\", \"delivery_available\": \"Yes\", \"outdoor_seating\": \"No\", \"vegetarian_friendly\": \"Yes\", \"alcohol_served\": \"Yes\"},\n",
        "  {\"id\": 6, \"restaurant_name\": \"Kitchen Lounge\", \"cuisine\": \"North Indian\", \"avg_rating\": 4.0, \"rating_count\": 275, \"timing\": \"10:00 AM - 10:00 PM\", \"geo\": {\"lat\": 13.101, \"lon\": 80.223}, \"address\": \"Kitchen Lounge, Velachery, Chennai\", \"phone_number\": \"044-56789012\", \"price_range\": \"Mid-range\", \"delivery_available\": \"Yes\", \"outdoor_seating\": \"Yes\", \"vegetarian_friendly\": \"Yes\", \"alcohol_served\": \"No\"},\n",
        "  {\"id\": 7, \"restaurant_name\": \"Bistro Nest\", \"cuisine\": \"Continental\", \"avg_rating\": 4.3, \"rating_count\": 180, \"timing\": \"11:00 AM - 11:00 PM\", \"geo\": {\"lat\": 13.087, \"lon\": 80.254}, \"address\": \"Bistro Nest, Nungambakkam, Chennai\", \"phone_number\": \"044-67890123\", \"price_range\": \"Expensive\", \"delivery_available\": \"No\", \"outdoor_seating\": \"Yes\", \"vegetarian_friendly\": \"No\", \"alcohol_served\": \"Yes\"},\n",
        "  {\"id\": 8, \"restaurant_name\": \"Cafe Shack\", \"cuisine\": \"Fast Food\", \"avg_rating\": 3.7, \"rating_count\": 90, \"timing\": \"12:00 PM - 12:00 AM\", \"geo\": {\"lat\": 13.063, \"lon\": 80.178}, \"address\": \"Cafe Shack, Kodambakkam, Chennai\", \"phone_number\": \"044-78901234\", \"price_range\": \"Budget\", \"delivery_available\": \"Yes\", \"outdoor_seating\": \"No\", \"vegetarian_friendly\": \"Yes\", \"alcohol_served\": \"No\"},\n",
        "  {\"id\": 9, \"restaurant_name\": \"Diner Pavilion\", \"cuisine\": \"Japanese\", \"avg_rating\": 4.4, \"rating_count\": 310, \"timing\": \"11:00 AM - 11:00 PM\", \"geo\": {\"lat\": 13.112, \"lon\": 80.235}, \"address\": \"Diner Pavilion, Royapettah, Chennai\", \"phone_number\": \"044-89012345\", \"price_range\": \"Expensive\", \"delivery_available\": \"No\", \"outdoor_seating\": \"Yes\", \"vegetarian_friendly\": \"No\", \"alcohol_served\": \"Yes\"},\n",
        "  {\"id\": 10, \"restaurant_name\": \"Eatery Barn\", \"cuisine\": \"Seafood\", \"avg_rating\": 4.0, \"rating_count\": 120, \"timing\": \"10:00 AM - 10:00 PM\", \"geo\": {\"lat\": 13.049, \"lon\": 80.261}, \"address\": \"Eatery Barn, Guindy, Chennai\", \"phone_number\": \"044-90123456\", \"price_range\": \"Mid-range\", \"delivery_available\": \"Yes\", \"outdoor_seating\": \"No\", \"vegetarian_friendly\": \"No\", \"alcohol_served\": \"No\"},\n",
        "  {\"id\": 11, \"restaurant_name\": \"Grill Inn\", \"cuisine\": \"Chettinad\", \"avg_rating\": 4.6, \"rating_count\": 500, \"timing\": \"11:00 AM - 11:00 PM\", \"geo\": {\"lat\": 13.073, \"lon\": 80.209}, \"address\": \"Grill Inn, Egmore, Chennai\", \"phone_number\": \"044-01234567\", \"price_range\": \"Mid-range\", \"delivery_available\": \"Yes\", \"outdoor_seating\": \"Yes\", \"vegetarian_friendly\": \"Yes\", \"alcohol_served\": \"No\"},\n",
        "  {\"id\": 12, \"restaurant_name\": \"Oven Terrace\", \"cuisine\": \"Thai\", \"avg_rating\": 3.9, \"rating_count\": 160, \"timing\": \"12:00 PM - 12:00 AM\", \"geo\": {\"lat\": 13.098, \"lon\": 80.192}, \"address\": \"Oven Terrace, Tambaram, Chennai\", \"phone_number\": \"044-12345098\", \"price_range\": \"Expensive\", \"delivery_available\": \"No\", \"outdoor_seating\": \"Yes\", \"vegetarian_friendly\": \"Yes\", \"alcohol_served\": \"Yes\"},\n",
        "  {\"id\": 13, \"restaurant_name\": \"Plate Den\", \"cuisine\": \"Andhra\", \"avg_rating\": 4.1, \"rating_count\": 230, \"timing\": \"10:00 AM - 10:00 PM\", \"geo\": {\"lat\": 13.041, \"lon\": 80.247}, \"address\": \"Plate Den, Chromepet, Chennai\", \"phone_number\": \"044-23450987\", \"price_range\": \"Budget\", \"delivery_available\": \"Yes\", \"outdoor_seating\": \"No\", \"vegetarian_friendly\": \"Yes\", \"alcohol_served\": \"No\"},\n",
        "  {\"id\": 14, \"restaurant_name\": \"Bowl Palace\", \"cuisine\": \"Kerala\", \"avg_rating\": 4.3, \"rating_count\": 340, \"timing\": \"11:00 AM - 11:00 PM\", \"geo\": {\"lat\": 13.085, \"lon\": 80.276}, \"address\": \"Bowl Palace, Porur, Chennai\", \"phone_number\": \"044-34509876\", \"price_range\": \"Mid-range\", \"delivery_available\": \"Yes\", \"outdoor_seating\": \"No\", \"vegetarian_friendly\": \"Yes\", \"alcohol_served\": \"No\"},\n",
        "  {\"id\": 15, \"restaurant_name\": \"Fork of Chennai\", \"cuisine\": \"Punjabi\", \"avg_rating\": 3.8, \"rating_count\": 95, \"timing\": \"12:00 PM - 12:00 AM\", \"geo\": {\"lat\": 13.059, \"lon\": 80.183}, \"address\": \"Fork of Chennai, T. Nagar, Chennai\", \"phone_number\": \"044-45098765\", \"price_range\": \"Budget\", \"delivery_available\": \"No\", \"outdoor_seating\": \"Yes\", \"vegetarian_friendly\": \"Yes\", \"alcohol_served\": \"No\"},\n",
        "  {\"id\": 16, \"restaurant_name\": \"Spice Nest\", \"cuisine\": \"Bengali\", \"avg_rating\": 4.2, \"rating_count\": 260, \"timing\": \"11:00 AM - 11:00 PM\", \"geo\": {\"lat\": 13.107, \"lon\": 80.221}, \"address\": \"Spice Nest, Anna Nagar, Chennai\", \"phone_number\": \"044-50987654\", \"price_range\": \"Mid-range\", \"delivery_available\": \"Yes\", \"outdoor_seating\": \"No\", \"vegetarian_friendly\": \"No\", \"alcohol_served\": \"Yes\"},\n",
        "  {\"id\": 17, \"restaurant_name\": \"Taste Pavilion\", \"cuisine\": \"Gujarati\", \"avg_rating\": 4.0, \"rating_count\": 175, \"timing\": \"10:00 AM - 10:00 PM\", \"geo\": {\"lat\": 13.076, \"lon\": 80.258}, \"address\": \"Taste Pavilion, Mylapore, Chennai\", \"phone_number\": \"044-09876543\", \"price_range\": \"Budget\", \"delivery_available\": \"Yes\", \"outdoor_seating\": \"No\", \"vegetarian_friendly\": \"Yes\", \"alcohol_served\": \"No\"},\n",
        "  {\"id\": 18, \"restaurant_name\": \"Flavors Inn\", \"cuisine\": \"Rajasthani\", \"avg_rating\": 4.4, \"rating_count\": 290, \"timing\": \"11:00 AM - 11:00 PM\", \"geo\": {\"lat\": 13.094, \"lon\": 80.201}, \"address\": \"Flavors Inn, Adyar, Chennai\", \"phone_number\": \"044-98765432\", \"price_range\": \"Mid-range\", \"delivery_available\": \"No\", \"outdoor_seating\": \"Yes\", \"vegetarian_friendly\": \"Yes\", \"alcohol_served\": \"No\"},\n",
        "  {\"id\": 19, \"restaurant_name\": \"Aromas Shack\", \"cuisine\": \"Lebanese\", \"avg_rating\": 4.1, \"rating_count\": 130, \"timing\": \"12:00 PM - 12:00 AM\", \"geo\": {\"lat\": 13.052, \"lon\": 80.239}, \"address\": \"Aromas Shack, Besant Nagar, Chennai\", \"phone_number\": \"044-87654321\", \"price_range\": \"Expensive\", \"delivery_available\": \"Yes\", \"outdoor_seating\": \"Yes\", \"vegetarian_friendly\": \"Yes\", \"alcohol_served\": \"Yes\"},\n",
        "  {\"id\": 20, \"restaurant_name\": \"Delights Barn\", \"cuisine\": \"American\", \"avg_rating\": 3.9, \"rating_count\": 210, \"timing\": \"10:00 AM - 10:00 PM\", \"geo\": {\"lat\": 13.069, \"lon\": 80.174}, \"address\": \"Delights Barn, Velachery, Chennai\", \"phone_number\": \"044-76543210\", \"price_range\": \"Mid-range\", \"delivery_available\": \"No\", \"outdoor_seating\": \"No\", \"vegetarian_friendly\": \"No\", \"alcohol_served\": \"Yes\"},\n",
        "  {\"id\": 21, \"restaurant_name\": \"Kitchen of Chennai\", \"cuisine\": \"South Indian\", \"avg_rating\": 4.5, \"rating_count\": 380, \"timing\": \"11:00 AM - 11:00 PM\", \"geo\": {\"lat\": 13.115, \"lon\": 80.263}, \"address\": \"Kitchen of Chennai, Nungambakkam, Chennai\", \"phone_number\": \"044-65432109\", \"price_range\": \"Mid-range\", \"delivery_available\": \"Yes\", \"outdoor_seating\": \"Yes\", \"vegetarian_friendly\": \"Yes\", \"alcohol_served\": \"No\"},\n",
        "  {\"id\": 22, \"restaurant_name\": \"Bistro Corner\", \"cuisine\": \"Chinese\", \"avg_rating\": 3.7, \"rating_count\": 140, \"timing\": \"12:00 PM - 12:00 AM\", \"geo\": {\"lat\": 13.088, \"lon\": 80.187}, \"address\": \"Bistro Corner, Kodambakkam, Chennai\", \"phone_number\": \"044-54321098\", \"price_range\": \"Budget\", \"delivery_available\": \"Yes\", \"outdoor_seating\": \"No\", \"vegetarian_friendly\": \"No\", \"alcohol_served\": \"No\"},\n",
        "  {\"id\": 23, \"restaurant_name\": \"Cafe Terrace\", \"cuisine\": \"Italian\", \"avg_rating\": 4.3, \"rating_count\": 300, \"timing\": \"10:00 AM - 10:00 PM\", \"geo\": {\"lat\": 13.043, \"lon\": 80.224}, \"address\": \"Cafe Terrace, Royapettah, Chennai\", \"phone_number\": \"044-43210987\", \"price_range\": \"Expensive\", \"delivery_available\": \"No\", \"outdoor_seating\": \"Yes\", \"vegetarian_friendly\": \"Yes\", \"alcohol_served\": \"Yes\"},\n",
        "  {\"id\": 24, \"restaurant_name\": \"Diner Garden\", \"cuisine\": \"Biryani\", \"avg_rating\": 4.0, \"rating_count\": 250, \"timing\": \"11:00 AM - 11:00 PM\", \"geo\": {\"lat\": 13.061, \"lon\": 80.269}, \"address\": \"Diner Garden, Guindy, Chennai\", \"phone_number\": \"044-32109876\", \"price_range\": \"Mid-range\", \"delivery_available\": \"Yes\", \"outdoor_seating\": \"No\", \"vegetarian_friendly\": \"No\", \"alcohol_served\": \"No\"},\n",
        "  {\"id\": 25, \"restaurant_name\": \"Eatery Lounge\", \"cuisine\": \"Mexican\", \"avg_rating\": 4.2, \"rating_count\": 190, \"timing\": \"12:00 PM - 12:00 AM\", \"geo\": {\"lat\": 13.103, \"lon\": 80.196}, \"address\": \"Eatery Lounge, Egmore, Chennai\", \"phone_number\": \"044-21098765\", \"price_range\": \"Expensive\", \"delivery_available\": \"No\", \"outdoor_seating\": \"Yes\", \"vegetarian_friendly\": \"Yes\", \"alcohol_served\": \"Yes\"},\n",
        "  {\"id\": 26, \"restaurant_name\": \"Grill Spot\", \"cuisine\": \"North Indian\", \"avg_rating\": 3.8, \"rating_count\": 110, \"timing\": \"10:00 AM - 10:00 PM\", \"geo\": {\"lat\": 13.077, \"lon\": 80.241}, \"address\": \"Grill Spot, Tambaram, Chennai\", \"phone_number\": \"044-10987654\", \"price_range\": \"Budget\", \"delivery_available\": \"Yes\", \"outdoor_seating\": \"No\", \"vegetarian_friendly\": \"Yes\", \"alcohol_served\": \"No\"},\n",
        "  {\"id\": 27, \"restaurant_name\": \"Oven Hub\", \"cuisine\": \"Continental\", \"avg_rating\": 4.4, \"rating_count\": 330, \"timing\": \"11:00 AM - 11:00 PM\", \"geo\": {\"lat\": 13.095, \"lon\": 80.212}, \"address\": \"Oven Hub, Chromepet, Chennai\", \"phone_number\": \"044-09876543\", \"price_range\": \"Mid-range\", \"delivery_available\": \"Yes\", \"outdoor_seating\": \"Yes\", \"vegetarian_friendly\": \"No\", \"alcohol_served\": \"Yes\"},\n",
        "  {\"id\": 28, \"restaurant_name\": \"Plate Nest\", \"cuisine\": \"Fast Food\", \"avg_rating\": 3.6, \"rating_count\": 70, \"timing\": \"12:00 PM - 12:00 AM\", \"geo\": {\"lat\": 13.048, \"lon\": 80.255}, \"address\": \"Plate Nest, Porur, Chennai\", \"phone_number\": \"044-98765432\", \"price_range\": \"Budget\", \"delivery_available\": \"Yes\", \"outdoor_seating\": \"No\", \"vegetarian_friendly\": \"Yes\", \"alcohol_served\": \"No\"},\n",
        "  {\"id\": 29, \"restaurant_name\": \"Bowl House\", \"cuisine\": \"Japanese\", \"avg_rating\": 4.5, \"rating_count\": 400, \"timing\": \"10:00 AM - 10:00 PM\", \"geo\": {\"lat\": 13.082, \"lon\": 80.179}, \"address\": \"Bowl House, T. Nagar, Chennai\", \"phone_number\": \"044-87654321\", \"price_range\": \"Expensive\", \"delivery_available\": \"No\", \"outdoor_seating\": \"Yes\", \"vegetarian_friendly\": \"No\", \"alcohol_served\": \"Yes\"},\n",
        "  {\"id\": 30, \"restaurant_name\": \"Fork Corner\", \"cuisine\": \"Seafood\", \"avg_rating\": 4.1, \"rating_count\": 220, \"timing\": \"11:00 AM - 11:00 PM\", \"geo\": {\"lat\": 13.109, \"lon\": 80.227}, \"address\": \"Fork Corner, Anna Nagar, Chennai\", \"phone_number\": \"044-76543210\", \"price_range\": \"Mid-range\", \"delivery_available\": \"Yes\", \"outdoor_seating\": \"No\", \"vegetarian_friendly\": \"No\", \"alcohol_served\": \"No\"},\n",
        "  {\"id\": 31, \"restaurant_name\": \"Spice Terrace\", \"cuisine\": \"Chettinad\", \"avg_rating\": 4.3, \"rating_count\": 280, \"timing\": \"12:00 PM - 12:00 AM\", \"geo\": {\"lat\": 13.066, \"lon\": 80.264}, \"address\": \"Spice Terrace, Mylapore, Chennai\", \"phone_number\": \"044-65432109\", \"price_range\": \"Mid-range\", \"delivery_available\": \"Yes\", \"outdoor_seating\": \"Yes\", \"vegetarian_friendly\": \"Yes\", \"alcohol_served\": \"No\"},\n",
        "  {\"id\": 32, \"restaurant_name\": \"Taste Den\", \"cuisine\": \"Thai\", \"avg_rating\": 3.9, \"rating_count\": 150, \"timing\": \"10:00 AM - 10:00 PM\", \"geo\": {\"lat\": 13.044, \"lon\": 80.188}, \"address\": \"Taste Den, Adyar, Chennai\", \"phone_number\": \"044-54321098\", \"price_range\": \"Expensive\", \"delivery_available\": \"No\", \"outdoor_seating\": \"No\", \"vegetarian_friendly\": \"Yes\", \"alcohol_served\": \"Yes\"},\n",
        "  {\"id\": 33, \"restaurant_name\": \"Flavors Barn\", \"cuisine\": \"Andhra\", \"avg_rating\": 4.2, \"rating_count\": 240, \"timing\": \"11:00 AM - 11:00 PM\", \"geo\": {\"lat\": 13.091, \"lon\": 80.243}, \"address\": \"Flavors Barn, Besant Nagar, Chennai\", \"phone_number\": \"044-43210987\", \"price_range\": \"Budget\", \"delivery_available\": \"Yes\", \"outdoor_seating\": \"No\", \"vegetarian_friendly\": \"Yes\", \"alcohol_served\": \"No\"},\n",
        "  {\"id\": 34, \"restaurant_name\": \"Aromas Inn\", \"cuisine\": \"Kerala\", \"avg_rating\": 4.0, \"rating_count\": 190, \"timing\": \"12:00 PM - 12:00 AM\", \"geo\": {\"lat\": 13.057, \"lon\": 80.199}, \"address\": \"Aromas Inn, Velachery, Chennai\", \"phone_number\": \"044-32109876\", \"price_range\": \"Mid-range\", \"delivery_available\": \"Yes\", \"outdoor_seating\": \"Yes\", \"vegetarian_friendly\": \"Yes\", \"alcohol_served\": \"No\"},\n",
        "  {\"id\": 35, \"restaurant_name\": \"Delights Spot\", \"cuisine\": \"Punjabi\", \"avg_rating\": 3.8, \"rating_count\": 130, \"timing\": \"10:00 AM - 10:00 PM\", \"geo\": {\"lat\": 13.104, \"lon\": 80.226}, \"address\": \"Delights Spot, Nungambakkam, Chennai\", \"phone_number\": \"044-21098765\", \"price_range\": \"Budget\", \"delivery_available\": \"No\", \"outdoor_seating\": \"No\", \"vegetarian_friendly\": \"Yes\", \"alcohol_served\": \"No\"},\n",
        "  {\"id\": 36, \"restaurant_name\": \"Kitchen Garden\", \"cuisine\": \"Bengali\", \"avg_rating\": 4.4, \"rating_count\": 310, \"timing\": \"11:00 AM - 11:00 PM\", \"geo\": {\"lat\": 13.079, \"lon\": 80.260}, \"address\": \"Kitchen Garden, Kodambakkam, Chennai\", \"phone_number\": \"044-10987654\", \"price_range\": \"Mid-range\", \"delivery_available\": \"Yes\", \"outdoor_seating\": \"Yes\", \"vegetarian_friendly\": \"No\", \"alcohol_served\": \"Yes\"},\n",
        "  {\"id\": 37, \"restaurant_name\": \"Bistro Shack\", \"cuisine\": \"Gujarati\", \"avg_rating\": 4.1, \"rating_count\": 160, \"timing\": \"12:00 PM - 12:00 AM\", \"geo\": {\"lat\": 13.046, \"lon\": 80.175}, \"address\": \"Bistro Shack, Royapettah, Chennai\", \"phone_number\": \"044-09876543\", \"price_range\": \"Budget\", \"delivery_available\": \"Yes\", \"outdoor_seating\": \"No\", \"vegetarian_friendly\": \"Yes\", \"alcohol_served\": \"No\"},\n",
        "  {\"id\": 38, \"restaurant_name\": \"Cafe Lounge\", \"cuisine\": \"Rajasthani\", \"avg_rating\": 4.3, \"rating_count\": 270, \"timing\": \"10:00 AM - 10:00 PM\", \"geo\": {\"lat\": 13.113, \"lon\": 80.219}, \"address\": \"Cafe Lounge, Guindy, Chennai\", \"phone_number\": \"044-98765432\", \"price_range\": \"Mid-range\", \"delivery_available\": \"No\", \"outdoor_seating\": \"Yes\", \"vegetarian_friendly\": \"Yes\", \"alcohol_served\": \"No\"},\n",
        "  {\"id\": 39, \"restaurant_name\": \"Diner Hub\", \"cuisine\": \"Lebanese\", \"avg_rating\": 4.0, \"rating_count\": 200, \"timing\": \"11:00 AM - 11:00 PM\", \"geo\": {\"lat\": 13.068, \"lon\": 80.248}, \"address\": \"Diner Hub, Egmore, Chennai\", \"phone_number\": \"044-87654321\", \"price_range\": \"Expensive\", \"delivery_available\": \"Yes\", \"outdoor_seating\": \"No\", \"vegetarian_friendly\": \"Yes\", \"alcohol_served\": \"Yes\"},\n",
        "  {\"id\": 40, \"restaurant_name\": \"Eatery Palace\", \"cuisine\": \"American\", \"avg_rating\": 3.9, \"rating_count\": 140, \"timing\": \"12:00 PM - 12:00 AM\", \"geo\": {\"lat\": 13.086, \"lon\": 80.193}, \"address\": \"Eatery Palace, Tambaram, Chennai\", \"phone_number\": \"044-76543210\", \"price_range\": \"Mid-range\", \"delivery_available\": \"Yes\", \"outdoor_seating\": \"Yes\", \"vegetarian_friendly\": \"No\", \"alcohol_served\": \"Yes\"}\n",
        "]"
      ],
      "metadata": {
        "id": "0B_GUQUGhNif"
      },
      "execution_count": null,
      "outputs": []
    },
    {
      "cell_type": "code",
      "source": [
        "if client.indices.exists(index=index_name):\n",
        "    client.indices.delete(index=index_name)\n",
        "\n",
        "# Create the index with the mapping\n",
        "client.indices.create(index=index_name, body=mapping)"
      ],
      "metadata": {
        "colab": {
          "base_uri": "https://localhost:8080/"
        },
        "id": "yEObGf7min5n",
        "outputId": "d5a1527f-957d-4590-972c-2942f96b5da7"
      },
      "execution_count": null,
      "outputs": [
        {
          "output_type": "execute_result",
          "data": {
            "text/plain": [
              "ObjectApiResponse({'acknowledged': True, 'shards_acknowledged': True, 'index': 'geo'})"
            ]
          },
          "metadata": {},
          "execution_count": 24
        }
      ]
    },
    {
      "cell_type": "code",
      "source": [
        "actions = [\n",
        "    {\n",
        "        \"_op_type\": \"index\",  # Operation type\n",
        "        \"_index\": index_name,  # Target index\n",
        "        \"_id\": str(doc[\"id\"]),  # Document ID (convert to string for consistency)\n",
        "        \"_source\": doc  # The actual document data\n",
        "    }\n",
        "    for doc in docs\n",
        "]\n",
        "\n",
        "# Perform bulk indexing\n",
        "bulk_response = helpers.bulk(client, actions)\n",
        "print(bulk_response)"
      ],
      "metadata": {
        "colab": {
          "base_uri": "https://localhost:8080/"
        },
        "id": "-nIWRUK6kU8G",
        "outputId": "7910d3b9-c750-4066-8989-c56ba76e6e4c"
      },
      "execution_count": null,
      "outputs": [
        {
          "output_type": "stream",
          "name": "stdout",
          "text": [
            "(40, [])\n"
          ]
        }
      ]
    },
    {
      "cell_type": "markdown",
      "source": [
        "POST geo/_search\n",
        "{\n",
        "  \"query\": {\n",
        "    \"match\": {\n",
        "      \"restaurant_name\": \"Delights Hub\"\n",
        "    }\n",
        "  }\n",
        "}\n"
      ],
      "metadata": {
        "id": "CpMpaXfCHFDV"
      }
    },
    {
      "cell_type": "code",
      "source": [
        "POST geo/_search\n",
        "{\n",
        "  \"sort\": [\n",
        "    {\n",
        "      \"_geo_distance\": {\n",
        "        \"geo\": {\n",
        "          \"lat\": 12.8230,\n",
        "          \"lon\": 80.0444\n",
        "        },\n",
        "        \"order\": \"asc\",\n",
        "        \"unit\": \"km\"\n",
        "      }\n",
        "    }\n",
        "  ]\n",
        "}\n"
      ],
      "metadata": {
        "id": "Y-vMb1edmCrc"
      },
      "execution_count": null,
      "outputs": []
    }
  ]
}
